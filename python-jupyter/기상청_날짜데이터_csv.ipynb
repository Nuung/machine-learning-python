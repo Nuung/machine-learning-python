{
 "cells": [
  {
   "cell_type": "markdown",
   "id": "f3e2696f",
   "metadata": {},
   "source": [
    "# 기상청 날씨 데이터 가져와서 그래프 그리기 \n",
    "\n",
    "- 도시별 현재날씨 > 지상관측자료 > 관측자료 > 날씨 > 기상청\n",
    "- http://www.kma.go.kr/weather/observation/currentweather.jsp\n"
   ]
  },
  {
   "cell_type": "code",
   "execution_count": 3,
   "id": "fd1cc274",
   "metadata": {},
   "outputs": [],
   "source": [
    "import requests                  # 웹 페이지의 HTML을 가져오는 모듈\n",
    "from bs4 import BeautifulSoup    # HTML을 파싱하는 모듈\n",
    " \n",
    "# 웹 페이지를 가져온 뒤 BeautifulSoup 객체로 만듦\n",
    "response = requests.get('https://pythondojang.bitbucket.io/weather/observation/currentweather.html')\n",
    "soup = BeautifulSoup(response.content, 'html.parser')\n",
    " \n",
    "table = soup.find('table', { 'class': 'table_develop3' })    # <table class=\"table_develop3\">을 찾음\n",
    "data = []                            # 데이터를 저장할 리스트 생성\n",
    "for tr in table.find_all('tr'):      # 모든 <tr> 태그를 찾아서 반복(각 지점의 데이터를 가져옴)\n",
    "    tds = list(tr.find_all('td'))    # 모든 <td> 태그를 찾아서 리스트로 만듦\n",
    "                                     # (각 날씨 값을 리스트로 만듦)\n",
    "    for td in tds:                   # <td> 태그 리스트 반복(각 날씨 값을 가져옴)\n",
    "        if td.find('a'):             # <td> 안에 <a> 태그가 있으면(지점인지 확인)\n",
    "            point = td.find('a').text    # <a> 태그 안에서 지점을 가져옴\n",
    "            temperature = tds[5].text    # <td> 태그 리스트의 여섯 번째(인덱스 5)에서 기온을 가져옴\n",
    "            humidity = tds[9].text       # <td> 태그 리스트의 열 번째(인덱스 9)에서 습도를 가져옴\n",
    "            data.append([point, temperature, humidity])    # data 리스트에 지점, 기온, 습도를 추가\n",
    " \n",
    "data    # data 표시. 주피터 노트북에서는 print를 사용하지 않아도 변수의 값이 표시됨\n",
    "\n",
    "with open('weather.csv', 'w') as file:    # weather.csv 파일을 쓰기 모드로 열기\n",
    "    file.write('point,temperature,humidity\\n')                  # 컬럼 이름 추가\n",
    "    for i in data:                                              # data를 반복하면서\n",
    "        file.write('{0},{1},{2}\\n'.format(i[0], i[1], i[2]))    # 지점,온도,습도를 줄 단위로 저장\n",
    "\n"
   ]
  },
  {
   "cell_type": "code",
   "execution_count": 4,
   "id": "e3914f8c",
   "metadata": {},
   "outputs": [
    {
     "data": {
      "text/html": [
       "<div>\n",
       "<style scoped>\n",
       "    .dataframe tbody tr th:only-of-type {\n",
       "        vertical-align: middle;\n",
       "    }\n",
       "\n",
       "    .dataframe tbody tr th {\n",
       "        vertical-align: top;\n",
       "    }\n",
       "\n",
       "    .dataframe thead th {\n",
       "        text-align: right;\n",
       "    }\n",
       "</style>\n",
       "<table border=\"1\" class=\"dataframe\">\n",
       "  <thead>\n",
       "    <tr style=\"text-align: right;\">\n",
       "      <th></th>\n",
       "      <th>temperature</th>\n",
       "      <th>humidity</th>\n",
       "    </tr>\n",
       "    <tr>\n",
       "      <th>point</th>\n",
       "      <th></th>\n",
       "      <th></th>\n",
       "    </tr>\n",
       "  </thead>\n",
       "  <tbody>\n",
       "    <tr>\n",
       "      <th>서울</th>\n",
       "      <td>25.6</td>\n",
       "      <td>30</td>\n",
       "    </tr>\n",
       "    <tr>\n",
       "      <th>백령도</th>\n",
       "      <td>18.4</td>\n",
       "      <td>62</td>\n",
       "    </tr>\n",
       "    <tr>\n",
       "      <th>인천</th>\n",
       "      <td>20.8</td>\n",
       "      <td>54</td>\n",
       "    </tr>\n",
       "    <tr>\n",
       "      <th>수원</th>\n",
       "      <td>25.0</td>\n",
       "      <td>41</td>\n",
       "    </tr>\n",
       "    <tr>\n",
       "      <th>동두천</th>\n",
       "      <td>24.9</td>\n",
       "      <td>34</td>\n",
       "    </tr>\n",
       "    <tr>\n",
       "      <th>...</th>\n",
       "      <td>...</td>\n",
       "      <td>...</td>\n",
       "    </tr>\n",
       "    <tr>\n",
       "      <th>합천</th>\n",
       "      <td>25.1</td>\n",
       "      <td>32</td>\n",
       "    </tr>\n",
       "    <tr>\n",
       "      <th>밀양</th>\n",
       "      <td>24.7</td>\n",
       "      <td>34</td>\n",
       "    </tr>\n",
       "    <tr>\n",
       "      <th>산청</th>\n",
       "      <td>24.8</td>\n",
       "      <td>41</td>\n",
       "    </tr>\n",
       "    <tr>\n",
       "      <th>거제</th>\n",
       "      <td>23.1</td>\n",
       "      <td>57</td>\n",
       "    </tr>\n",
       "    <tr>\n",
       "      <th>남해</th>\n",
       "      <td>24.5</td>\n",
       "      <td>40</td>\n",
       "    </tr>\n",
       "  </tbody>\n",
       "</table>\n",
       "<p>95 rows × 2 columns</p>\n",
       "</div>"
      ],
      "text/plain": [
       "       temperature  humidity\n",
       "point                       \n",
       "서울            25.6        30\n",
       "백령도           18.4        62\n",
       "인천            20.8        54\n",
       "수원            25.0        41\n",
       "동두천           24.9        34\n",
       "...            ...       ...\n",
       "합천            25.1        32\n",
       "밀양            24.7        34\n",
       "산청            24.8        41\n",
       "거제            23.1        57\n",
       "남해            24.5        40\n",
       "\n",
       "[95 rows x 2 columns]"
      ]
     },
     "execution_count": 4,
     "metadata": {},
     "output_type": "execute_result"
    }
   ],
   "source": [
    "# %matplotlib inline을 설정하면 matplotlib.pyplot의 show 함수를 호출하지 않아도\n",
    "# 주피터 노트북 안에서 그래프가 표시됨\n",
    "%matplotlib inline\n",
    "import pandas as pd                # 데이터를 저장하고 처리하는 패키지\n",
    "import matplotlib as mpl           # 그래프를 그리는 패키지\n",
    "import matplotlib.pyplot as plt    # 그래프를 그리는 패키지\n",
    " \n",
    "# csv 파일을 읽어서 DataFrame 객체로 만듦. 인덱스 컬럼은 point로 설정, 인코딩은 euc-kr로 설정 -> UTF-8로 바꿈\n",
    "df = pd.read_csv('weather.csv', index_col='point', encoding='UTF-8')\n",
    "df    # df 표시"
   ]
  },
  {
   "cell_type": "code",
   "execution_count": 5,
   "id": "9d3d11a5",
   "metadata": {},
   "outputs": [
    {
     "data": {
      "text/html": [
       "<div>\n",
       "<style scoped>\n",
       "    .dataframe tbody tr th:only-of-type {\n",
       "        vertical-align: middle;\n",
       "    }\n",
       "\n",
       "    .dataframe tbody tr th {\n",
       "        vertical-align: top;\n",
       "    }\n",
       "\n",
       "    .dataframe thead th {\n",
       "        text-align: right;\n",
       "    }\n",
       "</style>\n",
       "<table border=\"1\" class=\"dataframe\">\n",
       "  <thead>\n",
       "    <tr style=\"text-align: right;\">\n",
       "      <th></th>\n",
       "      <th>temperature</th>\n",
       "      <th>humidity</th>\n",
       "    </tr>\n",
       "    <tr>\n",
       "      <th>point</th>\n",
       "      <th></th>\n",
       "      <th></th>\n",
       "    </tr>\n",
       "  </thead>\n",
       "  <tbody>\n",
       "    <tr>\n",
       "      <th>서울</th>\n",
       "      <td>25.6</td>\n",
       "      <td>30</td>\n",
       "    </tr>\n",
       "    <tr>\n",
       "      <th>인천</th>\n",
       "      <td>20.8</td>\n",
       "      <td>54</td>\n",
       "    </tr>\n",
       "    <tr>\n",
       "      <th>대전</th>\n",
       "      <td>25.1</td>\n",
       "      <td>37</td>\n",
       "    </tr>\n",
       "    <tr>\n",
       "      <th>대구</th>\n",
       "      <td>25.7</td>\n",
       "      <td>31</td>\n",
       "    </tr>\n",
       "    <tr>\n",
       "      <th>광주</th>\n",
       "      <td>24.0</td>\n",
       "      <td>35</td>\n",
       "    </tr>\n",
       "    <tr>\n",
       "      <th>부산</th>\n",
       "      <td>20.2</td>\n",
       "      <td>66</td>\n",
       "    </tr>\n",
       "    <tr>\n",
       "      <th>울산</th>\n",
       "      <td>19.7</td>\n",
       "      <td>70</td>\n",
       "    </tr>\n",
       "  </tbody>\n",
       "</table>\n",
       "</div>"
      ],
      "text/plain": [
       "       temperature  humidity\n",
       "point                       \n",
       "서울            25.6        30\n",
       "인천            20.8        54\n",
       "대전            25.1        37\n",
       "대구            25.7        31\n",
       "광주            24.0        35\n",
       "부산            20.2        66\n",
       "울산            19.7        70"
      ]
     },
     "execution_count": 5,
     "metadata": {},
     "output_type": "execute_result"
    }
   ],
   "source": [
    "\n",
    "# 특별시, 광역시만 모아서 DataFrame 객체로 만듦\n",
    "city_df = df.loc[['서울', '인천', '대전', '대구', '광주', '부산', '울산']]\n",
    "city_df    # city_df 표시\n"
   ]
  },
  {
   "cell_type": "markdown",
   "id": "ae21639e",
   "metadata": {},
   "source": [
    "# 그래프 mpl 패키지 폰트 사용을 위해"
   ]
  },
  {
   "cell_type": "code",
   "execution_count": 6,
   "id": "ea0a15e6",
   "metadata": {},
   "outputs": [
    {
     "name": "stdout",
     "output_type": "stream",
     "text": [
      "1979\n"
     ]
    },
    {
     "data": {
      "text/plain": [
       "['/System/Library/Fonts/Supplemental/DIN Alternate Bold.ttf',\n",
       " '/Users/nuung/Library/Fonts/NotoSerifKhmer-Medium.ttf',\n",
       " '/Users/nuung/Library/Fonts/NotoSerifGeorgian-CondensedExtraBold.ttf',\n",
       " '/System/Library/Fonts/Supplemental/Tahoma Bold.ttf',\n",
       " '/Users/nuung/Library/Fonts/NotoSansArabicUI-CondensedExtraLight.ttf',\n",
       " '/Users/nuung/Library/Fonts/NotoSansLaoUI-ExtraCondensedBlack.ttf',\n",
       " '/Users/nuung/Library/Fonts/NotoSansTamil-SemiCondensedExtraBold.ttf',\n",
       " '/Users/nuung/Library/Fonts/NotoSerifGeorgian-ExtraCondensedSemiBold.ttf',\n",
       " '/Users/nuung/Library/Fonts/NotoSansTamilUI-ExtraLight.ttf',\n",
       " '/Users/nuung/Library/Fonts/NotoSansMalayalam-Regular.ttf']"
      ]
     },
     "execution_count": 6,
     "metadata": {},
     "output_type": "execute_result"
    }
   ],
   "source": [
    "import matplotlib.font_manager as font_manager\n",
    "\n",
    "font_list = font_manager.findSystemFonts(fontpaths=None, fontext='ttf')\n",
    "\n",
    "# 전체개수\n",
    "print(len(font_list)) \n",
    "\n",
    "# 처음 10개만 출력\n",
    "font_list[:10] \n"
   ]
  },
  {
   "cell_type": "markdown",
   "id": "82b04f56",
   "metadata": {},
   "source": [
    "# 사용 가능한 ttf 폰트 목록\n",
    "- 사용가능한 ttf(true type font)폰트 목록은 다음 리스트로 간단하게 얻을 수 있다\n",
    "- 사용가능한 폰트 목록 중 나눔글꼴(이름에 'Nanum'이 포함된) 폰트 목록만 추출\n",
    "\n"
   ]
  },
  {
   "cell_type": "code",
   "execution_count": 7,
   "id": "8adea2e7",
   "metadata": {},
   "outputs": [
    {
     "name": "stdout",
     "output_type": "stream",
     "text": [
      "2013\n"
     ]
    },
    {
     "data": {
      "text/plain": [
       "['STIXSizeOneSym',\n",
       " 'DejaVu Serif',\n",
       " 'STIXNonUnicode',\n",
       " 'cmsy10',\n",
       " 'STIXSizeFiveSym',\n",
       " 'STIXSizeFourSym',\n",
       " 'DejaVu Sans',\n",
       " 'DejaVu Sans',\n",
       " 'STIXGeneral',\n",
       " 'STIXSizeFourSym']"
      ]
     },
     "execution_count": 7,
     "metadata": {},
     "output_type": "execute_result"
    }
   ],
   "source": [
    "import matplotlib\n",
    "import matplotlib.font_manager\n",
    "\n",
    "font_list = [f.name for f in matplotlib.font_manager.fontManager.ttflist]\n",
    "print(len(font_list))\n",
    "font_list[:10]"
   ]
  },
  {
   "cell_type": "code",
   "execution_count": 8,
   "id": "8e70a813",
   "metadata": {},
   "outputs": [
    {
     "data": {
      "text/plain": [
       "[('NanumSquare', '/Library/Fonts/NanumSquareBold.ttf'),\n",
       " ('NanumSquare', '/Users/nuung/Library/Fonts/NanumSquareBold.ttf'),\n",
       " ('NanumSquare', '/Users/nuung/Library/Fonts/NanumSquareExtraBold.ttf'),\n",
       " ('NanumSquare', '/Users/nuung/Library/Fonts/NanumSquareRegular.ttf'),\n",
       " ('NanumSquare', '/Users/nuung/Library/Fonts/NanumSquareLight.ttf'),\n",
       " ('NanumSquareOTF', '/Users/nuung/Library/Fonts/NanumSquareOTFExtraBold.otf'),\n",
       " ('NanumSquareOTF', '/Users/nuung/Library/Fonts/NanumSquareOTFBold.otf'),\n",
       " ('NanumSquareOTF', '/Users/nuung/Library/Fonts/NanumSquareOTFRegular.otf'),\n",
       " ('NanumSquareOTF', '/Users/nuung/Library/Fonts/NanumSquareOTFLight.otf')]"
      ]
     },
     "execution_count": 8,
     "metadata": {},
     "output_type": "execute_result"
    }
   ],
   "source": [
    "[(f.name, f.fname) for f in matplotlib.font_manager.fontManager.ttflist if 'Nanum' in f.name]"
   ]
  },
  {
   "cell_type": "markdown",
   "id": "55c6faad",
   "metadata": {},
   "source": [
    "# 폰트를 지정하는 두가지 방법\n",
    "\n",
    "## matplotlib에서 폰트를 지정하여 출력하는 하는 대표적인 방법은 크기 두 가지이다.\n",
    "\n",
    "\n",
    "1. 텍스트 출력시 폰트 특성을 지정: FontProperties 속성으로 폰트 속성을 지정\n",
    "2. 전역으로 지정: rcParams 을 사용하여 전역으로 설정값을 지정\n",
    "\n",
    "\n",
    "## 텍스트 출력시 폰트 특성을 지정\n",
    "- 텍스트를 출력하는 다음 함수들을 사용할 때, fontproperties 인자에 폰트를 지정할 수 있다.\n",
    "\n",
    "- matplotlib.pyplot\n",
    "    - title()\n",
    "    - xlabel()\n",
    "    - ylabel()\n",
    "    - legend()\n",
    "    - text()\n",
    "\n",
    "- matplotlib.axes\n",
    "    - set_title()\n",
    "    \n",
    "- 예를 들어, 다음과 같이 텍스트와 폰트를 지정하여 출력할 수 있다.\n",
    "plt.text(0, 0, \"Sample Text\", fontproperties=fontprop)\n",
    "\n",
    "\n",
    "> 이제 위로 돌아가서, 특별시 광역시 온도 그래프 그려보자\n"
   ]
  },
  {
   "cell_type": "code",
   "execution_count": 9,
   "id": "745ad7f3",
   "metadata": {},
   "outputs": [
    {
     "data": {
      "text/plain": [
       "<matplotlib.legend.Legend at 0x124c43f98>"
      ]
     },
     "execution_count": 9,
     "metadata": {},
     "output_type": "execute_result"
    },
    {
     "data": {
      "image/png": "[encoded data removed]",
      "text/plain": [
       "<Figure size 864x288 with 1 Axes>"
      ]
     },
     "metadata": {
      "needs_background": "light"
     },
     "output_type": "display_data"
    }
   ],
   "source": [
    "\n",
    "# Windows 한글 폰트 설정\n",
    "font_name = mpl.font_manager.FontProperties(fname='/Library/Fonts/NanumSquareBold.ttf').get_name()\n",
    "mpl.rc('font', family=font_name)\n",
    " \n",
    "# 차트 종류, 제목, 차트 크기, 범례, 폰트 크기 설정\n",
    "ax = city_df.plot(kind='bar', title='날씨', figsize=(12, 4), legend=True, fontsize=12)\n",
    "ax.set_xlabel('도시', fontsize=12)          # x축 정보 표시\n",
    "ax.set_ylabel('기온/습도', fontsize=12)     # y축 정보 표시\n",
    "ax.legend(['기온', '습도'], fontsize=12)    # 범례 지정\n"
   ]
  },
  {
   "cell_type": "markdown",
   "id": "01dbaefe",
   "metadata": {},
   "source": [
    "### show 메서드로 그래프를 표시하기\n",
    "- 만약 %matplotlib inline를 지정하지 않았거나 \n",
    "- IDLE, 파이썬 인터프리터에서 그래프를 표시하려면 matplotlib.pyplot의 show 함수 호출하면 됩니다.\n",
    "\n",
    "plt.show()    # %matplotlib inline을 지정하지 않았거나 IDLE, 파이썬 인터프리터에서\n",
    "              # 그래프를 표시하려면 matplotlib.pyplot의 show 함수 호출\n",
    "\n",
    "\n",
    "### DataFrame 사용하기\n",
    "- pandas 및 DataFrame은 기능이 매우 많아서 모두 설명하려면 책 한 권으로도 부족합니다. \n",
    "- 여기서는 DataFrame의 기본 기능만 설명하겠습니다. 다음과 같이 DataFrame 객체에 컬럼 이름만 지정하면 컬럼에 해당하는 값을 모두 가져올 수 있습니다. - 컬럼 이름은 [ ](대괄호)에 인덱스를 지정해도 되고, 속성으로 접근해도 됩니다.\n",
    "\n",
    "DataFrame객체['컬럼이름']\n",
    "DataFrame객체.컬럼이름\n",
    "\n"
   ]
  }
 ],
 "metadata": {
  "kernelspec": {
   "display_name": "Python 3 (ipykernel)",
   "language": "python",
   "name": "python3"
  },
  "language_info": {
   "codemirror_mode": {
    "name": "ipython",
    "version": 3
   },
   "file_extension": ".py",
   "mimetype": "text/x-python",
   "name": "python",
   "nbconvert_exporter": "python",
   "pygments_lexer": "ipython3",
   "version": "3.7.3"
  }
 },
 "nbformat": 4,
 "nbformat_minor": 5
}
